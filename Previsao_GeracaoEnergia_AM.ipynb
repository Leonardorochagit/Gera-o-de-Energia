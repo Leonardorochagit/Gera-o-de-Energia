{
  "nbformat": 4,
  "nbformat_minor": 0,
  "metadata": {
    "colab": {
      "name": "Previsao_GeracaoEnergia_AM.ipynb",
      "private_outputs": true,
      "provenance": [],
      "collapsed_sections": [],
      "authorship_tag": "ABX9TyO1ZI47JuIxHnVYgdmpBMhK",
      "include_colab_link": true
    },
    "kernelspec": {
      "name": "python3",
      "display_name": "Python 3"
    },
    "language_info": {
      "name": "python"
    }
  },
  "cells": [
    {
      "cell_type": "markdown",
      "metadata": {
        "id": "view-in-github",
        "colab_type": "text"
      },
      "source": [
        "<a href=\"https://colab.research.google.com/github/Leonardorochagit/Geracao_Energia/blob/main/Previsao_GeracaoEnergia_AM.ipynb\" target=\"_parent\"><img src=\"https://colab.research.google.com/assets/colab-badge.svg\" alt=\"Open In Colab\"/></a>"
      ]
    },
    {
      "cell_type": "markdown",
      "source": [
        "# <center>Universidade do Estado do Amazonas</center>\n",
        "###  <center>Escola Superior de Tecnologia</center>\n",
        "#####  <center>Pós-graduação Lato Sensu em Ciência de Dados</center>\n",
        "#####  <center>Programação para Ciência de Dados (Turma 02)</center>\n",
        "---\n",
        "## <center>TCC de Conclusão de Curso </center>\n",
        "## <center> Previsão de Geração de Energia: Amazonas </center>\n"
      ],
      "metadata": {
        "id": "-6VvrbCzbT3F"
      }
    },
    {
      "cell_type": "markdown",
      "source": [
        "## **1. Importação das Bibliotecas e Configurações Ambiente**\n",
        "\n"
      ],
      "metadata": {
        "id": "VkffcBAncf48"
      }
    },
    {
      "cell_type": "code",
      "source": [
        "!pip install sweetviz -q\n",
        "!pip install -U pandas-profiling\n",
        "!pip install --user -q datascience\n",
        "!pip install --user -q pandas-profiling "
      ],
      "metadata": {
        "id": "_ZRRh-Ih8Nmt"
      },
      "execution_count": null,
      "outputs": []
    },
    {
      "cell_type": "code",
      "source": [
        "! git clone https://github.com/Leonardorochagit/Geracao_Energia\n",
        "#! git clone https://github.com/paulordie/sentimental_ds\n",
        "%cd Geracao_Energia/Base_ONS/"
      ],
      "metadata": {
        "id": "mlKx1_RnamSB"
      },
      "execution_count": null,
      "outputs": []
    },
    {
      "cell_type": "code",
      "source": [
        "import numpy as np\n",
        "import pandas as pd\n",
        "import matplotlib.pyplot as plt\n",
        "import matplotlib as mpl\n",
        "from matplotlib import pyplot\n",
        "import seaborn as sns \n",
        "import warnings\n",
        "warnings.filterwarnings(\"ignore\")\n",
        "%matplotlib inline "
      ],
      "metadata": {
        "id": "lQ-GbfU0cHHH"
      },
      "execution_count": null,
      "outputs": []
    },
    {
      "cell_type": "code",
      "source": [
        "# palette -> Accent, Accent_r, Blues, Blues_r, BrBG, BrBG_r, BuGn, BuGn_r, BuPu, BuPu_r, CMRmap, CMRmap_r, Dark2, Dark2_r, GnBu, GnBu_r, Greens, Greens_r, Greys, Greys_r, OrRd, OrRd_r, Oranges, Oranges_r, PRGn, PRGn_r, Paired, Paired_r, Pastel1, Pastel1_r, Pastel2, Pastel2_r, PiYG, PiYG_r, PuBu, PuBuGn, PuBuGn_r, PuBu_r, PuOr, PuOr_r, PuRd, PuRd_r, Purples, Purples_r, RdBu, RdBu_r, RdGy, RdGy_r, RdPu, RdPu_r, RdYlBu, RdYlBu_r, RdYlGn, RdYlGn_r, Reds, Reds_r, Set1, Set1_r, Set2, Set2_r, Set3, Set3_r, Spectral, Spectral_r, Wistia, Wistia_r, YlGn, YlGnBu, YlGnBu_r, YlGn_r, YlOrBr, YlOrBr_r, YlOrRd, YlOrRd_r, afmhot, afmhot_r, autumn, autumn_r, binary, binary_r, bone, bone_r, brg, brg_r, bwr, bwr_r, cividis, cividis_r, cool, cool_r, coolwarm, coolwarm_r, copper, copper_r, cubehelix, cubehelix_r, flag, flag_r, gist_earth, gist_earth_r, gist_gray, gist_gray_r, gist_heat, gist_heat_r, gist_ncar, gist_ncar_r, gist_rainbow, gist_rainbow_r, gist_stern, gist_stern_r, gist_yarg, gist_yarg_r, gnuplot, gnuplot2, gnuplot2_r, gnuplot_r, gray, gray_r, hot, hot_r, hsv, hsv_r, icefire, icefire_r, inferno, inferno_r, jet, jet_r, magma, magma_r, mako, mako_r, nipy_spectral, nipy_spectral_r, ocean, ocean_r, pink, pink_r, plasma, plasma_r, prism, prism_r, rainbow, rainbow_r, rocket, rocket_r, seismic, seismic_r, spring, spring_r, summer, summer_r, tab10, tab10_r, tab20, tab20_r, tab20b, tab20b_r, tab20c, tab20c_r, terrain, terrain_r, viridis, viridis_r, vlag, vlag_r, winter, winter_r\n",
        "sns.set_palette(\"Blues_r\")\n",
        "\n",
        "# style -> white, dark, whitegrid, darkgrid, ticks\n",
        "sns.set_style(\"darkgrid\")"
      ],
      "metadata": {
        "id": "_TrgmzXScHKE"
      },
      "execution_count": null,
      "outputs": []
    },
    {
      "cell_type": "code",
      "source": [
        "pd.options.display.max_columns = None"
      ],
      "metadata": {
        "id": "unh8vhYocHNa"
      },
      "execution_count": null,
      "outputs": []
    },
    {
      "cell_type": "code",
      "source": [
        ""
      ],
      "metadata": {
        "id": "TkV2y1KucHR7"
      },
      "execution_count": null,
      "outputs": []
    },
    {
      "cell_type": "code",
      "source": [
        ""
      ],
      "metadata": {
        "id": "7xVqsEgGcHV1"
      },
      "execution_count": null,
      "outputs": []
    },
    {
      "cell_type": "markdown",
      "source": [
        "## **2. Abrindo a Base de Dados** "
      ],
      "metadata": {
        "id": "uYj_5sC6ckOG"
      }
    },
    {
      "cell_type": "code",
      "source": [
        "# Convertendo o dataset em um dataframe com Pandas\n",
        "df = pd.read_csv('/root/Geracao_Energia/Geracao_Energia/Base_ONS/4. Simples_Geração_de_Energia_Dia_data AMAZONAS.csv', sep = ';') #, header = True\n",
        "df.head()\n",
        "\n"
      ],
      "metadata": {
        "id": "__yernu2dO-N"
      },
      "execution_count": null,
      "outputs": []
    },
    {
      "cell_type": "code",
      "source": [
        "df.columns\n"
      ],
      "metadata": {
        "id": "N0ztiW35dPLk"
      },
      "execution_count": null,
      "outputs": []
    },
    {
      "cell_type": "code",
      "source": [
        "lista_colunas_drop = ['Data Escala de Tempo 1 GE Simp 4', 'cod_aneel (tb_referenciacegusina (Usina))', \n",
        "                      'cod_nucleoaneel (tb_referenciacegusina (Usina))', 'nom_tipousinasite', 'nom_usina2', \n",
        "                      'Período Exibido GE']"
      ],
      "metadata": {
        "id": "CMbafAJT4csP"
      },
      "execution_count": null,
      "outputs": []
    },
    {
      "cell_type": "code",
      "source": [
        "df.drop(columns=lista_colunas_drop, inplace=True)\n"
      ],
      "metadata": {
        "id": "afcCEba04B96"
      },
      "execution_count": null,
      "outputs": []
    },
    {
      "cell_type": "code",
      "source": [
        "df"
      ],
      "metadata": {
        "id": "9hdBWWdK4akr"
      },
      "execution_count": null,
      "outputs": []
    },
    {
      "cell_type": "code",
      "source": [
        "df = df.rename(columns={'Data Dica':'Data/Hora','Selecione Tipo de GE Simp 4':'Geracao (GWh)'})\n",
        "#df = df.reset_index(drop=True)\n",
        "df.head(10)"
      ],
      "metadata": {
        "id": "wNlWhUfe7Y8A"
      },
      "execution_count": null,
      "outputs": []
    },
    {
      "cell_type": "code",
      "source": [
        "df['Hora'] = df['Data/Hora'].str[8:]\n",
        "\n",
        "df['Data'] = df['Data/Hora'].str[:5]\n",
        "\n",
        "# train['day'] = train['DateTime'].str[8:10]\n",
        "\n",
        "# train['hour'] = train['DateTime'].str[11:13]\n",
        "\n",
        "# train['minute'] = train['DateTime'].str[14:16]\n",
        "\n",
        "# train['second'] = train['DateTime'].str[17:19]\n",
        "df"
      ],
      "metadata": {
        "id": "v03_7gWo9Dj2"
      },
      "execution_count": null,
      "outputs": []
    },
    {
      "cell_type": "code",
      "source": [
        "nova_ordem = ['Data/Hora', 'dsc_estado', 'id_subsistema', 'Data', 'Hora', 'Geracao (GWh)']"
      ],
      "metadata": {
        "id": "XTBjSrNS9Dvf"
      },
      "execution_count": null,
      "outputs": []
    },
    {
      "cell_type": "code",
      "source": [
        "df=df[nova_ordem]\n",
        "df"
      ],
      "metadata": {
        "id": "1UkNmPyS9Dzd"
      },
      "execution_count": null,
      "outputs": []
    },
    {
      "cell_type": "code",
      "source": [
        ""
      ],
      "metadata": {
        "id": "WMaKLUI59D3D"
      },
      "execution_count": null,
      "outputs": []
    }
  ]
}