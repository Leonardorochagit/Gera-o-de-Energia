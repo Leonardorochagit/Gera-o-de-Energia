{
  "nbformat": 4,
  "nbformat_minor": 0,
  "metadata": {
    "colab": {
      "name": "Previsao_GeracaoEnergia_AM.ipynb",
      "private_outputs": true,
      "provenance": [],
      "collapsed_sections": [],
      "toc_visible": true,
      "authorship_tag": "ABX9TyMLB5b6h89R9ZfcP9gf2tGG",
      "include_colab_link": true
    },
    "kernelspec": {
      "name": "python3",
      "display_name": "Python 3"
    },
    "language_info": {
      "name": "python"
    }
  },
  "cells": [
    {
      "cell_type": "markdown",
      "metadata": {
        "id": "view-in-github",
        "colab_type": "text"
      },
      "source": [
        "<a href=\"https://colab.research.google.com/github/Leonardorochagit/Geracao_Energia/blob/main/Previsao_GeracaoEnergia_AM.ipynb\" target=\"_parent\"><img src=\"https://colab.research.google.com/assets/colab-badge.svg\" alt=\"Open In Colab\"/></a>"
      ]
    },
    {
      "cell_type": "markdown",
      "source": [
        "# <center>Universidade do Estado do Amazonas</center>\n",
        "###  <center>Escola Superior de Tecnologia</center>\n",
        "#####  <center>Pós-graduação Lato Sensu em Ciência de Dados</center>\n",
        "#####  <center>Programação para Ciência de Dados (Turma 02)</center>\n",
        "---\n",
        "## <center>TCC de Conclusão de Curso </center>\n",
        "## <center> Previsão de Geração de Energia: Amazonas </center>\n"
      ],
      "metadata": {
        "id": "-6VvrbCzbT3F"
      }
    },
    {
      "cell_type": "markdown",
      "source": [
        "## **1. Importação das Bibliotecas e Configurações Ambiente**\n",
        "\n"
      ],
      "metadata": {
        "id": "VkffcBAncf48"
      }
    },
    {
      "cell_type": "code",
      "source": [
        "!pip install sweetviz -q\n",
        "!pip install -U pandas-profiling\n",
        "!pip install --user -q datascience"
      ],
      "metadata": {
        "id": "_ZRRh-Ih8Nmt"
      },
      "execution_count": null,
      "outputs": []
    },
    {
      "cell_type": "code",
      "source": [
        "!pip install --user -q pandas -plotting"
      ],
      "metadata": {
        "id": "1bG7b_0PnhHz"
      },
      "execution_count": null,
      "outputs": []
    },
    {
      "cell_type": "code",
      "source": [
        "! git clone https://github.com/Leonardorochagit/Geracao_Energia\n",
        "#! git clone https://github.com/paulordie/sentimental_ds\n",
        "%cd Geracao_Energia/Base_ONS/"
      ],
      "metadata": {
        "id": "mlKx1_RnamSB"
      },
      "execution_count": null,
      "outputs": []
    },
    {
      "cell_type": "code",
      "source": [
        "import numpy as np\n",
        "import pandas as pd\n",
        "import matplotlib.pyplot as plt\n",
        "import matplotlib as mpl\n",
        "from matplotlib import pyplot\n",
        "import seaborn as sns \n",
        "import warnings\n",
        "warnings.filterwarnings(\"ignore\")\n",
        "%matplotlib inline "
      ],
      "metadata": {
        "id": "lQ-GbfU0cHHH"
      },
      "execution_count": null,
      "outputs": []
    },
    {
      "cell_type": "code",
      "source": [
        "import numpy as np\n",
        "import pandas as pd\n",
        "from statsmodels.tsa.filters.hp_filter import hpfilter\n",
        "from statsmodels.tsa.seasonal import seasonal_decompose\n",
        "import matplotlib.pyplot as plt\n",
        "plt.style.use('seaborn')\n",
        "from datetime import datetime\n",
        "import seaborn as sns\n",
        "plt.rcParams[\"figure.figsize\"] = (15,15)\n",
        "import seaborn as sns"
      ],
      "metadata": {
        "id": "oUovrC61196g"
      },
      "execution_count": null,
      "outputs": []
    },
    {
      "cell_type": "code",
      "source": [
        "# palette -> Accent, Accent_r, Blues, Blues_r, BrBG, BrBG_r, BuGn, BuGn_r, BuPu, BuPu_r, CMRmap, CMRmap_r, Dark2, Dark2_r, GnBu, GnBu_r, Greens, Greens_r, Greys, Greys_r, OrRd, OrRd_r, Oranges, Oranges_r, PRGn, PRGn_r, Paired, Paired_r, Pastel1, Pastel1_r, Pastel2, Pastel2_r, PiYG, PiYG_r, PuBu, PuBuGn, PuBuGn_r, PuBu_r, PuOr, PuOr_r, PuRd, PuRd_r, Purples, Purples_r, RdBu, RdBu_r, RdGy, RdGy_r, RdPu, RdPu_r, RdYlBu, RdYlBu_r, RdYlGn, RdYlGn_r, Reds, Reds_r, Set1, Set1_r, Set2, Set2_r, Set3, Set3_r, Spectral, Spectral_r, Wistia, Wistia_r, YlGn, YlGnBu, YlGnBu_r, YlGn_r, YlOrBr, YlOrBr_r, YlOrRd, YlOrRd_r, afmhot, afmhot_r, autumn, autumn_r, binary, binary_r, bone, bone_r, brg, brg_r, bwr, bwr_r, cividis, cividis_r, cool, cool_r, coolwarm, coolwarm_r, copper, copper_r, cubehelix, cubehelix_r, flag, flag_r, gist_earth, gist_earth_r, gist_gray, gist_gray_r, gist_heat, gist_heat_r, gist_ncar, gist_ncar_r, gist_rainbow, gist_rainbow_r, gist_stern, gist_stern_r, gist_yarg, gist_yarg_r, gnuplot, gnuplot2, gnuplot2_r, gnuplot_r, gray, gray_r, hot, hot_r, hsv, hsv_r, icefire, icefire_r, inferno, inferno_r, jet, jet_r, magma, magma_r, mako, mako_r, nipy_spectral, nipy_spectral_r, ocean, ocean_r, pink, pink_r, plasma, plasma_r, prism, prism_r, rainbow, rainbow_r, rocket, rocket_r, seismic, seismic_r, spring, spring_r, summer, summer_r, tab10, tab10_r, tab20, tab20_r, tab20b, tab20b_r, tab20c, tab20c_r, terrain, terrain_r, viridis, viridis_r, vlag, vlag_r, winter, winter_r\n",
        "sns.set_palette(\"Blues_r\")\n",
        "\n",
        "# style -> white, dark, whitegrid, darkgrid, ticks\n",
        "sns.set_style(\"darkgrid\")"
      ],
      "metadata": {
        "id": "_TrgmzXScHKE"
      },
      "execution_count": null,
      "outputs": []
    },
    {
      "cell_type": "code",
      "source": [
        "pd.options.display.max_columns = None"
      ],
      "metadata": {
        "id": "unh8vhYocHNa"
      },
      "execution_count": null,
      "outputs": []
    },
    {
      "cell_type": "markdown",
      "source": [
        "## **2. Abrindo a Base de Dados** "
      ],
      "metadata": {
        "id": "uYj_5sC6ckOG"
      }
    },
    {
      "cell_type": "code",
      "source": [
        "# Convertendo o dataset em um dataframe com Pandas\n",
        "df = pd.read_csv('/content/Geracao_Energia/Base_ONS/4. Simples_Geração_de_Energia_Dia_data AMAZONAS.csv', sep = ';', \n",
        "                 index_col=0, header=0, parse_dates=True, squeeze=True) # header=0, index_col=0, parse_dates=True, squeeze=True\n",
        "df.head()    "
      ],
      "metadata": {
        "id": "__yernu2dO-N"
      },
      "execution_count": null,
      "outputs": []
    },
    {
      "cell_type": "code",
      "source": [
        "df.columns\n"
      ],
      "metadata": {
        "id": "N0ztiW35dPLk"
      },
      "execution_count": null,
      "outputs": []
    },
    {
      "cell_type": "code",
      "source": [
        "lista_colunas_drop = ['cod_aneel (tb_referenciacegusina (Usina))', 'cod_nucleoaneel (tb_referenciacegusina (Usina))', \n",
        "                      'Data Dica','dsc_estado', 'id_subsistema', 'nom_tipousinasite', 'nom_usina2', \n",
        "                      'Período Exibido GE']\n",
        "df=df.drop(columns=lista_colunas_drop)\n",
        "df"
      ],
      "metadata": {
        "id": "CMbafAJT4csP"
      },
      "execution_count": null,
      "outputs": []
    },
    {
      "cell_type": "code",
      "source": [
        "df = df.rename(columns={'Data Escala de Tempo 1 GE Simp 4':'Data/Hora','Selecione Tipo de GE Simp 4':'Geracao_(GWh)'})\n",
        "#df = df.reset_index(drop=True)\n",
        "df.head(10)"
      ],
      "metadata": {
        "id": "wNlWhUfe7Y8A"
      },
      "execution_count": null,
      "outputs": []
    },
    {
      "cell_type": "code",
      "source": [
        "df.index.names = ['Data/Hora']\n",
        "df"
      ],
      "metadata": {
        "id": "grtONEkR_8dh"
      },
      "execution_count": null,
      "outputs": []
    },
    {
      "cell_type": "code",
      "source": [
        "df['Geracao_(GWh)']=df['Geracao_(GWh)'].apply(lambda x: str(x).replace(',','.'))\n",
        "df"
      ],
      "metadata": {
        "id": "bJcv05IB2ZGe"
      },
      "execution_count": null,
      "outputs": []
    },
    {
      "cell_type": "code",
      "source": [
        "df['Geracao_(GWh)']=df['Geracao_(GWh)'].astype('float64')"
      ],
      "metadata": {
        "id": "Zf8zIIB26L9b"
      },
      "execution_count": null,
      "outputs": []
    },
    {
      "cell_type": "code",
      "source": [
        "df.describe()"
      ],
      "metadata": {
        "id": "CvehzW6Q51Lv"
      },
      "execution_count": null,
      "outputs": []
    },
    {
      "cell_type": "code",
      "source": [
        "df.info()"
      ],
      "metadata": {
        "id": "4atePffrBpRF"
      },
      "execution_count": null,
      "outputs": []
    },
    {
      "cell_type": "code",
      "source": [
        "df.index"
      ],
      "metadata": {
        "id": "YjTGohcWKiZv"
      },
      "execution_count": null,
      "outputs": []
    },
    {
      "cell_type": "code",
      "source": [
        "df['year'] = df.index.year\n",
        "df['month']  = df.index.month\n",
        "df['weekday'] = df.index.weekday\n",
        "df['weekofyear'] = df.index.weekofyear\n",
        "df['quarter'] = df.index.quarter\n",
        "df.tail(3)"
      ],
      "metadata": {
        "id": "F1WsasyoNhQQ"
      },
      "execution_count": null,
      "outputs": []
    },
    {
      "cell_type": "markdown",
      "source": [
        "## **3. Manipulando a Base de Dados** "
      ],
      "metadata": {
        "id": "QyMIhsA4iA-G"
      }
    },
    {
      "cell_type": "code",
      "source": [
        "df['Geracao_(GWh)'].plot()"
      ],
      "metadata": {
        "id": "HRQ-nE7oj8RI"
      },
      "execution_count": null,
      "outputs": []
    },
    {
      "cell_type": "code",
      "source": [
        "df.info()"
      ],
      "metadata": {
        "id": "gpNdO2qZSZPz"
      },
      "execution_count": null,
      "outputs": []
    },
    {
      "cell_type": "code",
      "source": [
        "df1 = df.iloc[:,0:1]"
      ],
      "metadata": {
        "id": "ViF-XB4aSv80"
      },
      "execution_count": null,
      "outputs": []
    },
    {
      "cell_type": "code",
      "source": [
        "df1"
      ],
      "metadata": {
        "id": "QOtxG__2SyjZ"
      },
      "execution_count": null,
      "outputs": []
    },
    {
      "cell_type": "code",
      "source": [
        "df1.info()"
      ],
      "metadata": {
        "id": "NTw02Md3S6eo"
      },
      "execution_count": null,
      "outputs": []
    },
    {
      "cell_type": "code",
      "source": [
        "# Grouping data based on month and store type\n",
        "dfbox= df1.groupby([pd.Grouper(freq='A'), 'Geracao_(GWh)']).sum().head(15)"
      ],
      "metadata": {
        "id": "ueXupD2VPnIx"
      },
      "execution_count": null,
      "outputs": []
    },
    {
      "cell_type": "code",
      "source": [
        "dfbox.head(30)"
      ],
      "metadata": {
        "id": "KhQOwxR8UfQq"
      },
      "execution_count": null,
      "outputs": []
    },
    {
      "cell_type": "code",
      "source": [
        "from pandas import DataFrame\n",
        "years=DataFrame()\n",
        "for name, group in df1: \n",
        "   years[name.year]=group.values\n",
        "years.boxplot\n",
        "pyplot.show()"
      ],
      "metadata": {
        "id": "N9JVuY6gYDxJ"
      },
      "execution_count": null,
      "outputs": []
    },
    {
      "cell_type": "code",
      "source": [
        "pd.date_range('2008-01-01', '2022-01-10', freq='M')"
      ],
      "metadata": {
        "id": "qe1o9WR5aluB"
      },
      "execution_count": null,
      "outputs": []
    },
    {
      "cell_type": "code",
      "source": [
        "# Specify the data columns we want to include (i.e. exclude Year, Month, Weekday Name)\n",
        "data_columns = ['Geracao_(GWh)']\n",
        "# Resample to weekly frequency, aggregating with mean\n",
        "df_ano = df1[data_columns].resample('H').sum()\n",
        "df_ano.head()"
      ],
      "metadata": {
        "id": "pT9-36Zwbbce"
      },
      "execution_count": null,
      "outputs": []
    },
    {
      "cell_type": "code",
      "source": [
        "df_ano['Geracao_(GWh)'].plot()"
      ],
      "metadata": {
        "id": "pxZmAn5hbvkM"
      },
      "execution_count": null,
      "outputs": []
    },
    {
      "cell_type": "markdown",
      "source": [
        ""
      ],
      "metadata": {
        "id": "GaulRYf8Uddo"
      }
    },
    {
      "cell_type": "code",
      "source": [
        "#Try lag 1 day\n",
        "pd.plotting.lag_plot(df['Geracao_(GWh)'], lag =24 )"
      ],
      "metadata": {
        "id": "BejyyBltkWmF"
      },
      "execution_count": null,
      "outputs": []
    },
    {
      "cell_type": "code",
      "source": [
        "#Try lag 365 day\n",
        "pd.plotting.lag_plot(df['Geracao_(GWh)'], lag = 8640)"
      ],
      "metadata": {
        "id": "0jCQrerpkhC7"
      },
      "execution_count": null,
      "outputs": []
    },
    {
      "cell_type": "markdown",
      "source": [
        "Auto-correlation Plots"
      ],
      "metadata": {
        "id": "eJjYO4T1laOI"
      }
    },
    {
      "cell_type": "code",
      "source": [
        "from pandas.plotting import autocorrelation_plot"
      ],
      "metadata": {
        "id": "WNXx0jColYBw"
      },
      "execution_count": null,
      "outputs": []
    },
    {
      "cell_type": "code",
      "source": [
        "autocorrelation_plot(df)\n",
        "pyplot.show()"
      ],
      "metadata": {
        "id": "E8_OKtiboPQf"
      },
      "execution_count": null,
      "outputs": []
    },
    {
      "cell_type": "code",
      "source": [
        "from statsmodels.graphics.tsaplots import plot_acf\n",
        "plot_acf(df, lags=31)\n",
        "pyplot.show()"
      ],
      "metadata": {
        "id": "YoIpCSgQoVk-"
      },
      "execution_count": null,
      "outputs": []
    },
    {
      "cell_type": "markdown",
      "source": [
        "Partial Auto-Correlation"
      ],
      "metadata": {
        "id": "5QweXsFUobET"
      }
    },
    {
      "cell_type": "code",
      "source": [
        "from statsmodels.graphics.tsaplots import plot_pacf\n",
        "plot_pacf(df, lags=50)\n",
        "pyplot.show()"
      ],
      "metadata": {
        "id": "DzPtrop6oeIx"
      },
      "execution_count": null,
      "outputs": []
    }
  ]
}